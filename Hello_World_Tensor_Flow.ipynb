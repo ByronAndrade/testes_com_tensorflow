{
  "nbformat": 4,
  "nbformat_minor": 0,
  "metadata": {
    "colab": {
      "provenance": [],
      "authorship_tag": "ABX9TyPhIQqbkxYxT3OM2mQ1O5sU",
      "include_colab_link": true
    },
    "kernelspec": {
      "name": "python3",
      "display_name": "Python 3"
    },
    "language_info": {
      "name": "python"
    }
  },
  "cells": [
    {
      "cell_type": "markdown",
      "metadata": {
        "id": "view-in-github",
        "colab_type": "text"
      },
      "source": [
        "<a href=\"https://colab.research.google.com/github/ByronAndrade/testes_com_tensorflow/blob/main/Hello_World_Tensor_Flow.ipynb\" target=\"_parent\"><img src=\"https://colab.research.google.com/assets/colab-badge.svg\" alt=\"Open In Colab\"/></a>"
      ]
    },
    {
      "cell_type": "code",
      "execution_count": 1,
      "metadata": {
        "colab": {
          "base_uri": "https://localhost:8080/"
        },
        "id": "zEG_-FqsqwHz",
        "outputId": "96d79334-5d2e-462e-d2f8-8670fe15b017"
      },
      "outputs": [
        {
          "output_type": "stream",
          "name": "stdout",
          "text": [
            "2.12.0\n"
          ]
        }
      ],
      "source": [
        "import tensorflow as tf\n",
        "print(tf.__version__)"
      ]
    },
    {
      "cell_type": "code",
      "source": [
        "# Crie um tensor.\n",
        "hello = tf.constant(\"Hello, World!\")\n",
        "\n",
        "# TensorFlow 2 executa os tensores de forma \"eager\" (imediatamente), então não precisamos iniciar uma sessão\n",
        "print(hello)"
      ],
      "metadata": {
        "colab": {
          "base_uri": "https://localhost:8080/"
        },
        "id": "LZhF2wofrQnK",
        "outputId": "c083d3a5-6de6-4b0b-8b05-50aec4f194b8"
      },
      "execution_count": 2,
      "outputs": [
        {
          "output_type": "stream",
          "name": "stdout",
          "text": [
            "tf.Tensor(b'Hello, World!', shape=(), dtype=string)\n"
          ]
        }
      ]
    }
  ]
}